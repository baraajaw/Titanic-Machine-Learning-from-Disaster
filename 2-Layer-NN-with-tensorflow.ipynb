{
 "cells": [
  {
   "cell_type": "markdown",
   "metadata": {},
   "source": [
    "## 1 - Packages\n",
    "- [numpy](https://www.numpy.org)\n",
    "- [pandas](https://pandas.pydata.org)\n",
    "- [tensorflow](https://www.tensorflow.org/)"
   ]
  },
  {
   "cell_type": "code",
   "execution_count": 95,
   "metadata": {},
   "outputs": [],
   "source": [
    "import numpy as np\n",
    "import pandas as pd\n",
    "import tensorflow as tf\n",
    "from tensorflow import keras"
   ]
  },
  {
   "cell_type": "markdown",
   "metadata": {},
   "source": [
    "## 2 - Load the dataset\n",
    "Load the [dataset](https://www.kaggle.com/c/titanic/data), the dataset already split for you.\n"
   ]
  },
  {
   "cell_type": "code",
   "execution_count": 96,
   "metadata": {},
   "outputs": [],
   "source": [
    "train_data = pd.read_csv(\"train.csv\", delimiter = ',')\n",
    "test_data = pd.read_csv(\"test.csv\", delimiter = ',')\n",
    "test_result = pd.read_csv(\"gender_submission.csv\", delimiter = ',')\n",
    "\n",
    "test_data[\"Survived\"] = test_result[\"Survived\"]"
   ]
  },
  {
   "cell_type": "markdown",
   "metadata": {},
   "source": [
    "## 3 - prepare the dataset "
   ]
  },
  {
   "cell_type": "code",
   "execution_count": 97,
   "metadata": {},
   "outputs": [],
   "source": [
    "def prepare_data(table):\n",
    "    X = table.drop([\"PassengerId\", \"Name\", \"Ticket\", \"Cabin\", \"Survived\"], axis = 1)\n",
    "    Y = table[\"Survived\"]\n",
    "    \n",
    "    # fix \"Age\" \n",
    "    age_avg = round(X[\"Age\"].sum() / (len(X) - X[\"Age\"].isna().sum()), 1)\n",
    "    X[\"Age\"].fillna(age_avg, inplace = True)\n",
    "    #normalize Age\n",
    "    X[\"Age\"] = (X[\"Age\"] - X[\"Age\"].mean()) / X[\"Age\"].std()\n",
    "    \n",
    "    \n",
    "    # fix \"Fare\"\n",
    "    Fare_avg = round(X[\"Fare\"].sum() / (len(X) - X[\"Fare\"].isna().sum()), 1)\n",
    "    X[\"Fare\"].fillna(Fare_avg, inplace = True)\n",
    "    X[\"Fare\"] = (X[\"Fare\"] - X[\"Fare\"].mean()) / X[\"Fare\"].std()\n",
    "    \n",
    "    # fix Embarked \n",
    "    X[\"Embarked\"] = X[\"Embarked\"].map({'C' : 0.0, 'S' : 1.0, 'Q' : 2.0})\n",
    "    X['Embarked'].fillna(-1, inplace = True)\n",
    "    \n",
    "    #fix sex \n",
    "    X['Sex'] = X['Sex'].map({'female' : 0.0, 'male' : 1.0})\n",
    "    \n",
    "    \n",
    "    \n",
    "    return X.values, Y.values"
   ]
  },
  {
   "cell_type": "code",
   "execution_count": 98,
   "metadata": {},
   "outputs": [
    {
     "name": "stdout",
     "output_type": "stream",
     "text": [
      "(891, 7)\n"
     ]
    }
   ],
   "source": [
    "X_train, Y_train = prepare_data(train_data)\n",
    "print(X_train.shape)\n",
    "X_test, Y_test = prepare_data(test_data)"
   ]
  },
  {
   "cell_type": "markdown",
   "metadata": {},
   "source": [
    "## 4- Build the model\n",
    "\n",
    "- 4.1 - Setup the layers\n",
    "- 4.2 - Compile the model\n",
    "- 4.3 - Train the model\n",
    "- 4.4 - Evaluate accuracy"
   ]
  },
  {
   "cell_type": "markdown",
   "metadata": {},
   "source": [
    "### 4.1 - Setup the layers"
   ]
  },
  {
   "cell_type": "code",
   "execution_count": 99,
   "metadata": {},
   "outputs": [],
   "source": [
    "model = keras.Sequential([\n",
    "    keras.layers.Dense(7, activation=tf.nn.relu),\n",
    "    keras.layers.Dense(8, activation=tf.nn.relu),\n",
    "    keras.layers.Dense(1, activation=tf.nn.sigmoid)\n",
    "    \n",
    "])"
   ]
  },
  {
   "cell_type": "markdown",
   "metadata": {},
   "source": [
    "### 4.2 Compile the model"
   ]
  },
  {
   "cell_type": "code",
   "execution_count": 100,
   "metadata": {},
   "outputs": [],
   "source": [
    "tf.logging.set_verbosity(tf.logging.ERROR)\n",
    "model.compile(optimizer= tf.train.GradientDescentOptimizer(learning_rate=0.0075),\n",
    "              loss ='binary_crossentropy',\n",
    "              metrics=['accuracy'])"
   ]
  },
  {
   "cell_type": "markdown",
   "metadata": {},
   "source": [
    "### 4.3 Train the model"
   ]
  },
  {
   "cell_type": "code",
   "execution_count": 101,
   "metadata": {},
   "outputs": [
    {
     "name": "stdout",
     "output_type": "stream",
     "text": [
      "Epoch 1/10\n",
      "891/891 [==============================] - 0s 381us/sample - loss: 0.6378 - acc: 0.6296\n",
      "Epoch 2/10\n",
      "891/891 [==============================] - 0s 61us/sample - loss: 0.6321 - acc: 0.6319\n",
      "Epoch 3/10\n",
      "891/891 [==============================] - 0s 77us/sample - loss: 0.6268 - acc: 0.6364\n",
      "Epoch 4/10\n",
      "891/891 [==============================] - 0s 80us/sample - loss: 0.6220 - acc: 0.6409\n",
      "Epoch 5/10\n",
      "891/891 [==============================] - 0s 70us/sample - loss: 0.6174 - acc: 0.6442\n",
      "Epoch 6/10\n",
      "891/891 [==============================] - 0s 73us/sample - loss: 0.6130 - acc: 0.6476\n",
      "Epoch 7/10\n",
      "891/891 [==============================] - 0s 83us/sample - loss: 0.6088 - acc: 0.6521\n",
      "Epoch 8/10\n",
      "891/891 [==============================] - 0s 68us/sample - loss: 0.6048 - acc: 0.6543\n",
      "Epoch 9/10\n",
      "891/891 [==============================] - 0s 82us/sample - loss: 0.6007 - acc: 0.6588\n",
      "Epoch 10/10\n",
      "891/891 [==============================] - 0s 98us/sample - loss: 0.5970 - acc: 0.6622\n"
     ]
    },
    {
     "data": {
      "text/plain": [
       "<tensorflow.python.keras.callbacks.History at 0x13b0d4ef0>"
      ]
     },
     "execution_count": 101,
     "metadata": {},
     "output_type": "execute_result"
    }
   ],
   "source": [
    "model.fit(X_train, Y_train, epochs=10)"
   ]
  },
  {
   "cell_type": "markdown",
   "metadata": {},
   "source": [
    "### 4.4 Evaluate accuracy\n"
   ]
  },
  {
   "cell_type": "code",
   "execution_count": 102,
   "metadata": {},
   "outputs": [
    {
     "name": "stdout",
     "output_type": "stream",
     "text": [
      "418/418 [==============================] - 0s 378us/sample - loss: 0.5642 - acc: 0.7033\n",
      "Test accuracy: 0.7033493\n"
     ]
    }
   ],
   "source": [
    "_, test_acc = model.evaluate(X_test, Y_test)\n",
    "\n",
    "print('Test accuracy:', test_acc)"
   ]
  },
  {
   "cell_type": "code",
   "execution_count": null,
   "metadata": {},
   "outputs": [],
   "source": []
  }
 ],
 "metadata": {
  "kernelspec": {
   "display_name": "Python 3",
   "language": "python",
   "name": "python3"
  },
  "language_info": {
   "codemirror_mode": {
    "name": "ipython",
    "version": 3
   },
   "file_extension": ".py",
   "mimetype": "text/x-python",
   "name": "python",
   "nbconvert_exporter": "python",
   "pygments_lexer": "ipython3",
   "version": "3.6.5"
  }
 },
 "nbformat": 4,
 "nbformat_minor": 2
}
